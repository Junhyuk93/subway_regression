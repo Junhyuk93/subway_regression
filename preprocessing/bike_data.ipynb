{
 "cells": [
  {
   "cell_type": "markdown",
   "source": [
    "## 따릉이"
   ],
   "metadata": {}
  },
  {
   "cell_type": "markdown",
   "source": [
    "#### 파일 병합"
   ],
   "metadata": {}
  },
  {
   "cell_type": "code",
   "execution_count": null,
   "source": [
    "bike_data=pd.DataFrame(pd.read_csv(filenames[4],encoding='euc-kr',thousands = ','))"
   ],
   "outputs": [],
   "metadata": {}
  },
  {
   "cell_type": "code",
   "execution_count": null,
   "source": [
    "filenames[4]"
   ],
   "outputs": [
    {
     "data": {
      "text/plain": [
       "'C:/Code/regression/따릉이\\\\서울특별시 공공자전거 대여이력 정보_2017년_2분기_1.csv'"
      ]
     },
     "metadata": {},
     "output_type": "display_data"
    }
   ],
   "metadata": {}
  },
  {
   "cell_type": "code",
   "execution_count": null,
   "source": [
    "path ='C:/Code/regression/따릉이'\r\n",
    "filenames = glob.glob(path + \"/서울특별시*.csv\")"
   ],
   "outputs": [],
   "metadata": {}
  },
  {
   "cell_type": "code",
   "execution_count": null,
   "source": [
    "len(filenames)"
   ],
   "outputs": [
    {
     "data": {
      "text/plain": [
       "38"
      ]
     },
     "metadata": {},
     "output_type": "display_data"
    }
   ],
   "metadata": {
    "scrolled": false
   }
  },
  {
   "cell_type": "code",
   "execution_count": null,
   "source": [
    "bike1=pd.DataFrame()\r\n",
    "bike2=pd.DataFrame()\r\n",
    "bike3=pd.DataFrame()\r\n",
    "bike4=pd.DataFrame()"
   ],
   "outputs": [],
   "metadata": {}
  },
  {
   "cell_type": "markdown",
   "source": [
    "### 데이터 용량이 너무 커서 bike1~5로 나눠 작업"
   ],
   "metadata": {}
  },
  {
   "cell_type": "code",
   "execution_count": null,
   "source": [
    "a1=0\r\n",
    "for i in range(0,11):\r\n",
    "    bike_data=pd.DataFrame(pd.read_csv(filenames[i],encoding='euc-kr',thousands = ','))\r\n",
    "    a1+=len(bike_data)\r\n",
    "    print(filenames[i],i,a1)\r\n",
    "    print(bike_data.columns[[1,2,9,10]])\r\n",
    "    bike_data=bike_data.iloc[:,[1,2,9,10]]\r\n",
    "    bike_data.columns=['대여일시','대여소번호','이용시간_분', '이용거리_M']\r\n",
    "    bike1=pd.concat([bike1,bike_data])"
   ],
   "outputs": [
    {
     "output_type": "stream",
     "name": "stdout",
     "text": [
      "C:/Code/regression/따릉이\\서울특별시 공공자전거 대여이력 정보_2016년_1.csv 0 482990\n",
      "Index(['대여일시', '대여소번호', '이용시간(분)', '이용거리(M)'], dtype='object')\n",
      "C:/Code/regression/따릉이\\서울특별시 공공자전거 대여이력 정보_2016년_2.csv 1 1298291\n",
      "Index(['대여일시', '대여소번호', '이용시간(분)', '이용거리(M)'], dtype='object')\n",
      "C:/Code/regression/따릉이\\서울특별시 공공자전거 대여이력 정보_2016년_3.csv 2 1580480\n",
      "Index(['대여일시', '대여소번호', '이용시간(분)', '이용거리(M)'], dtype='object')\n",
      "C:/Code/regression/따릉이\\서울특별시 공공자전거 대여이력 정보_2017년_1.csv 3 1935211\n",
      "Index(['대여일시', '대여소번호', '이용시간(분)', '이용거리(M)'], dtype='object')\n",
      "C:/Code/regression/따릉이\\서울특별시 공공자전거 대여이력 정보_2017년_2분기_1.csv 4 2699365\n",
      "Index([''대여일시'', ''대여대여소번호'', ''이용시간(분)'', ''이용거리(M)''], dtype='object')\n",
      "C:/Code/regression/따릉이\\서울특별시 공공자전거 대여이력 정보_2017년_2분기_2.csv 5 3231868\n",
      "Index([''대여일시'', ''대여대여소번호'', ''이용시간(분)'', ''이용거리(M)''], dtype='object')\n",
      "C:/Code/regression/따릉이\\서울특별시 공공자전거 대여이력 정보_2017년_3분기_1.csv 6 4150779\n",
      "Index([''대여일시'', ''대여대여소번호'', ''이용시간(분)'', ''이용거리(M)''], dtype='object')\n",
      "C:/Code/regression/따릉이\\서울특별시 공공자전거 대여이력 정보_2017년_3분기_2.csv 7 5031308\n",
      "Index([''대여일시'', ''대여대여소번호'', ''이용시간(분)'', ''이용거리(M)''], dtype='object')\n",
      "C:/Code/regression/따릉이\\서울특별시 공공자전거 대여이력 정보_2017년_4분기_1.csv 8 5883811\n",
      "Index([''대여일시'', ''대여대여소번호'', ''이용시간(분)'', ''이용거리(M)''], dtype='object')\n",
      "C:/Code/regression/따릉이\\서울특별시 공공자전거 대여이력 정보_2017년_4분기_2.csv 9 6556434\n",
      "Index([''대여일시'', ''대여대여소번호'', ''이용시간(분)'', ''이용거리(M)''], dtype='object')\n",
      "C:/Code/regression/따릉이\\서울특별시 공공자전거 대여이력 정보_2018년_1분기1.csv 10 7341168\n",
      "Index([''대여일시'', ''대여대여소번호'', ''이용시간(분)'', ''이용거리(M)''], dtype='object')\n"
     ]
    }
   ],
   "metadata": {
    "scrolled": false
   }
  },
  {
   "cell_type": "code",
   "execution_count": null,
   "source": [
    "bike1"
   ],
   "outputs": [
    {
     "data": {
      "text/html": [
       "<div>\n",
       "<style scoped>\n",
       "    .dataframe tbody tr th:only-of-type {\n",
       "        vertical-align: middle;\n",
       "    }\n",
       "\n",
       "    .dataframe tbody tr th {\n",
       "        vertical-align: top;\n",
       "    }\n",
       "\n",
       "    .dataframe thead th {\n",
       "        text-align: right;\n",
       "    }\n",
       "</style>\n",
       "<table border=\"1\" class=\"dataframe\">\n",
       "  <thead>\n",
       "    <tr style=\"text-align: right;\">\n",
       "      <th></th>\n",
       "      <th>대여일시</th>\n",
       "      <th>대여소번호</th>\n",
       "      <th>이용시간_분</th>\n",
       "      <th>이용거리_M</th>\n",
       "    </tr>\n",
       "  </thead>\n",
       "  <tbody>\n",
       "    <tr>\n",
       "      <th>0</th>\n",
       "      <td>2016-01-01 0:12</td>\n",
       "      <td>112</td>\n",
       "      <td>24</td>\n",
       "      <td>4140</td>\n",
       "    </tr>\n",
       "    <tr>\n",
       "      <th>1</th>\n",
       "      <td>2016-01-01 0:22</td>\n",
       "      <td>113</td>\n",
       "      <td>24</td>\n",
       "      <td>2850</td>\n",
       "    </tr>\n",
       "    <tr>\n",
       "      <th>2</th>\n",
       "      <td>2016-01-01 0:23</td>\n",
       "      <td>211</td>\n",
       "      <td>7</td>\n",
       "      <td>1020</td>\n",
       "    </tr>\n",
       "    <tr>\n",
       "      <th>3</th>\n",
       "      <td>2016-01-01 0:24</td>\n",
       "      <td>113</td>\n",
       "      <td>22</td>\n",
       "      <td>2850</td>\n",
       "    </tr>\n",
       "    <tr>\n",
       "      <th>4</th>\n",
       "      <td>2016-01-01 0:35</td>\n",
       "      <td>335</td>\n",
       "      <td>19</td>\n",
       "      <td>2190</td>\n",
       "    </tr>\n",
       "    <tr>\n",
       "      <th>...</th>\n",
       "      <td>...</td>\n",
       "      <td>...</td>\n",
       "      <td>...</td>\n",
       "      <td>...</td>\n",
       "    </tr>\n",
       "    <tr>\n",
       "      <th>784729</th>\n",
       "      <td>'2018-03-31 23:59:46'</td>\n",
       "      <td>'2034'</td>\n",
       "      <td>26</td>\n",
       "      <td>5010</td>\n",
       "    </tr>\n",
       "    <tr>\n",
       "      <th>784730</th>\n",
       "      <td>'2018-03-31 23:59:52'</td>\n",
       "      <td>'266'</td>\n",
       "      <td>7</td>\n",
       "      <td>950</td>\n",
       "    </tr>\n",
       "    <tr>\n",
       "      <th>784731</th>\n",
       "      <td>'2018-03-31 23:59:54'</td>\n",
       "      <td>'926'</td>\n",
       "      <td>39</td>\n",
       "      <td>3130</td>\n",
       "    </tr>\n",
       "    <tr>\n",
       "      <th>784732</th>\n",
       "      <td>'2018-03-31 23:59:56'</td>\n",
       "      <td>'503'</td>\n",
       "      <td>4</td>\n",
       "      <td>590</td>\n",
       "    </tr>\n",
       "    <tr>\n",
       "      <th>784733</th>\n",
       "      <td>'2018-03-31 23:59:58'</td>\n",
       "      <td>'1026'</td>\n",
       "      <td>104</td>\n",
       "      <td>16830</td>\n",
       "    </tr>\n",
       "  </tbody>\n",
       "</table>\n",
       "<p>7341168 rows × 4 columns</p>\n",
       "</div>"
      ],
      "text/plain": [
       "                         대여일시   대여소번호  이용시간_분  이용거리_M\n",
       "0             2016-01-01 0:12     112      24    4140\n",
       "1             2016-01-01 0:22     113      24    2850\n",
       "2             2016-01-01 0:23     211       7    1020\n",
       "3             2016-01-01 0:24     113      22    2850\n",
       "4             2016-01-01 0:35     335      19    2190\n",
       "...                       ...     ...     ...     ...\n",
       "784729  '2018-03-31 23:59:46'  '2034'      26    5010\n",
       "784730  '2018-03-31 23:59:52'   '266'       7     950\n",
       "784731  '2018-03-31 23:59:54'   '926'      39    3130\n",
       "784732  '2018-03-31 23:59:56'   '503'       4     590\n",
       "784733  '2018-03-31 23:59:58'  '1026'     104   16830\n",
       "\n",
       "[7341168 rows x 4 columns]"
      ]
     },
     "metadata": {},
     "output_type": "display_data"
    }
   ],
   "metadata": {
    "scrolled": false
   }
  },
  {
   "cell_type": "code",
   "execution_count": null,
   "source": [
    "a2=0\r\n",
    "for i in range(11,15):\r\n",
    "    bike_data=pd.DataFrame(pd.read_csv(filenames[i],encoding='euc-kr',thousands = ','))\r\n",
    "    a2+=len(bike_data)\r\n",
    "    print(filenames[i],i,a2)\r\n",
    "    print(bike_data.columns[[1,2,9,10]])\r\n",
    "    bike_data=bike_data.iloc[:,[1,2,9,10]]\r\n",
    "    bike_data.columns=['대여일시','대여소번호','이용시간_분', '이용거리_M']\r\n",
    "    bike2=pd.concat([bike2,bike_data])"
   ],
   "outputs": [
    {
     "output_type": "stream",
     "name": "stdout",
     "text": [
      "C:/Code/regression/따릉이\\서울특별시 공공자전거 대여이력 정보_2018년_2분기_1.csv 11 677878\n",
      "Index([''대여일시'', ''대여대여소번호'', ''이용시간(분)'', ''이용거리(M)''], dtype='object')\n",
      "C:/Code/regression/따릉이\\서울특별시 공공자전거 대여이력 정보_2018년_2분기_2.csv 12 1629324\n",
      "Index([''대여일시'', ''대여대여소번호'', ''이용시간(분)'', ''이용거리(M)''], dtype='object')\n",
      "C:/Code/regression/따릉이\\서울특별시 공공자전거 대여이력 정보_2018년_2분기_3.csv 13 2196183\n",
      "Index([''대여일시'', ''대여대여소번호'', ''이용시간(분)'', ''이용거리(M)''], dtype='object')\n",
      "C:/Code/regression/따릉이\\서울특별시 공공자전거 대여이력 정보_2018년_2분기_4.csv 14 2782487\n",
      "Index([''대여일시'', ''대여대여소번호'', ''이용시간(분)'', ''이용거리(M)''], dtype='object')\n"
     ]
    }
   ],
   "metadata": {
    "scrolled": true
   }
  },
  {
   "cell_type": "code",
   "execution_count": null,
   "source": [
    "bike2"
   ],
   "outputs": [
    {
     "data": {
      "text/html": [
       "<div>\n",
       "<style scoped>\n",
       "    .dataframe tbody tr th:only-of-type {\n",
       "        vertical-align: middle;\n",
       "    }\n",
       "\n",
       "    .dataframe tbody tr th {\n",
       "        vertical-align: top;\n",
       "    }\n",
       "\n",
       "    .dataframe thead th {\n",
       "        text-align: right;\n",
       "    }\n",
       "</style>\n",
       "<table border=\"1\" class=\"dataframe\">\n",
       "  <thead>\n",
       "    <tr style=\"text-align: right;\">\n",
       "      <th></th>\n",
       "      <th>대여일시</th>\n",
       "      <th>대여소번호</th>\n",
       "      <th>이용시간_분</th>\n",
       "      <th>이용거리_M</th>\n",
       "    </tr>\n",
       "  </thead>\n",
       "  <tbody>\n",
       "    <tr>\n",
       "      <th>0</th>\n",
       "      <td>'2018-04-01 00:00:01'</td>\n",
       "      <td>'266'</td>\n",
       "      <td>7</td>\n",
       "      <td>1390</td>\n",
       "    </tr>\n",
       "    <tr>\n",
       "      <th>1</th>\n",
       "      <td>'2018-04-01 00:00:16'</td>\n",
       "      <td>'1946'</td>\n",
       "      <td>44</td>\n",
       "      <td>9170</td>\n",
       "    </tr>\n",
       "    <tr>\n",
       "      <th>2</th>\n",
       "      <td>'2018-04-01 00:00:17'</td>\n",
       "      <td>'1449'</td>\n",
       "      <td>42</td>\n",
       "      <td>4700</td>\n",
       "    </tr>\n",
       "    <tr>\n",
       "      <th>3</th>\n",
       "      <td>'2018-04-01 00:00:20'</td>\n",
       "      <td>'2034'</td>\n",
       "      <td>32</td>\n",
       "      <td>5430</td>\n",
       "    </tr>\n",
       "    <tr>\n",
       "      <th>4</th>\n",
       "      <td>'2018-04-01 00:00:23'</td>\n",
       "      <td>'141'</td>\n",
       "      <td>10</td>\n",
       "      <td>1960</td>\n",
       "    </tr>\n",
       "    <tr>\n",
       "      <th>...</th>\n",
       "      <td>...</td>\n",
       "      <td>...</td>\n",
       "      <td>...</td>\n",
       "      <td>...</td>\n",
       "    </tr>\n",
       "    <tr>\n",
       "      <th>586299</th>\n",
       "      <td>'2018-06-30 23:59:55'</td>\n",
       "      <td>'505'</td>\n",
       "      <td>9</td>\n",
       "      <td>1230</td>\n",
       "    </tr>\n",
       "    <tr>\n",
       "      <th>586300</th>\n",
       "      <td>'2018-06-30 23:59:55'</td>\n",
       "      <td>'1328'</td>\n",
       "      <td>17</td>\n",
       "      <td>3600</td>\n",
       "    </tr>\n",
       "    <tr>\n",
       "      <th>586301</th>\n",
       "      <td>'2018-06-30 23:59:57'</td>\n",
       "      <td>'2376'</td>\n",
       "      <td>20</td>\n",
       "      <td>2590</td>\n",
       "    </tr>\n",
       "    <tr>\n",
       "      <th>586302</th>\n",
       "      <td>'2018-06-30 23:59:57'</td>\n",
       "      <td>'1251'</td>\n",
       "      <td>57</td>\n",
       "      <td>6640</td>\n",
       "    </tr>\n",
       "    <tr>\n",
       "      <th>586303</th>\n",
       "      <td>'2018-06-30 23:59:58'</td>\n",
       "      <td>'2169'</td>\n",
       "      <td>7</td>\n",
       "      <td>910</td>\n",
       "    </tr>\n",
       "  </tbody>\n",
       "</table>\n",
       "<p>2782487 rows × 4 columns</p>\n",
       "</div>"
      ],
      "text/plain": [
       "                         대여일시   대여소번호  이용시간_분  이용거리_M\n",
       "0       '2018-04-01 00:00:01'   '266'       7    1390\n",
       "1       '2018-04-01 00:00:16'  '1946'      44    9170\n",
       "2       '2018-04-01 00:00:17'  '1449'      42    4700\n",
       "3       '2018-04-01 00:00:20'  '2034'      32    5430\n",
       "4       '2018-04-01 00:00:23'   '141'      10    1960\n",
       "...                       ...     ...     ...     ...\n",
       "586299  '2018-06-30 23:59:55'   '505'       9    1230\n",
       "586300  '2018-06-30 23:59:55'  '1328'      17    3600\n",
       "586301  '2018-06-30 23:59:57'  '2376'      20    2590\n",
       "586302  '2018-06-30 23:59:57'  '1251'      57    6640\n",
       "586303  '2018-06-30 23:59:58'  '2169'       7     910\n",
       "\n",
       "[2782487 rows x 4 columns]"
      ]
     },
     "metadata": {},
     "output_type": "display_data"
    }
   ],
   "metadata": {
    "scrolled": true
   }
  },
  {
   "cell_type": "code",
   "execution_count": null,
   "source": [
    "a3=0\r\n",
    "for i in range(15,30):\r\n",
    "    bike_data=pd.DataFrame(pd.read_csv(filenames[i],encoding='cp949',thousands = ','))\r\n",
    "    a3+=len(bike_data)\r\n",
    "    print(filenames[i],i,a3)\r\n",
    "    print(bike_data.columns[[1,2,9,10]])\r\n",
    "    bike_data=bike_data.iloc[:,[1,2,9,10]]\r\n",
    "    bike_data.columns=['대여일시','대여소번호','이용시간_분', '이용거리_M']\r\n",
    "    bike3=pd.concat([bike3,bike_data])"
   ],
   "outputs": [
    {
     "output_type": "stream",
     "name": "stdout",
     "text": [
      "C:/Code/regression/따릉이\\서울특별시 공공자전거 대여정보_201812.csv 15 497958\n",
      "Index(['대여일시', '대여소번호', '이용시간', '이용거리'], dtype='object')\n",
      "C:/Code/regression/따릉이\\서울특별시 공공자전거 대여정보_201901.csv 16 974716\n",
      "Index(['대여일시', '대여소번호', '이용시간', '이용거리'], dtype='object')\n",
      "C:/Code/regression/따릉이\\서울특별시 공공자전거 대여정보_201902.csv 17 1444441\n",
      "Index(['대여일시', '대여소번호', '이용시간', '이용거리'], dtype='object')\n",
      "C:/Code/regression/따릉이\\서울특별시 공공자전거 대여정보_201903.csv 18 2319687\n",
      "Index(['대여일시', '대여소번호', '이용시간', '이용거리'], dtype='object')\n",
      "C:/Code/regression/따릉이\\서울특별시 공공자전거 대여정보_201904.csv 19 3747454\n",
      "Index(['대여일시', '대여소번호', '이용시간', '이용거리'], dtype='object')\n",
      "C:/Code/regression/따릉이\\서울특별시 공공자전거 대여정보_201905.csv 20 5969254\n",
      "Index(['대여일시', '대여소번호', '이용시간', '이용거리'], dtype='object')\n",
      "C:/Code/regression/따릉이\\서울특별시 공공자전거 대여정보_201906_1.csv 21 6769214\n",
      "Index(['대여일시', '대여 대여소번호', '이용시간', '이용거리'], dtype='object')\n",
      "C:/Code/regression/따릉이\\서울특별시 공공자전거 대여정보_201906_2.csv 22 7569165\n",
      "Index(['대여일시', '대여 대여소번호', '이용시간', '이용거리'], dtype='object')\n",
      "C:/Code/regression/따릉이\\서울특별시 공공자전거 대여정보_201906_3.csv 23 8184886\n",
      "Index(['대여일시', '대여 대여소번호', '이용시간', '이용거리'], dtype='object')\n",
      "C:/Code/regression/따릉이\\서울특별시 공공자전거 대여정보_201907_1.csv 24 8984886\n",
      "Index(['대여일시', '대여 대여소번호', '이용시간', '이용거리'], dtype='object')\n",
      "C:/Code/regression/따릉이\\서울특별시 공공자전거 대여정보_201907_2.csv 25 9784886\n",
      "Index(['대여일시', '대여 대여소번호', '이용시간', '이용거리'], dtype='object')\n",
      "C:/Code/regression/따릉이\\서울특별시 공공자전거 대여정보_201907_3.csv 26 10267497\n",
      "Index(['대여일시', '대여 대여소번호', '이용시간', '이용거리'], dtype='object')\n",
      "C:/Code/regression/따릉이\\서울특별시 공공자전거 대여정보_201908_1.csv 27 11067497\n",
      "Index(['대여일시', '대여 대여소번호', '이용시간', '이용거리'], dtype='object')\n",
      "C:/Code/regression/따릉이\\서울특별시 공공자전거 대여정보_201908_2.csv 28 11867497\n",
      "Index(['대여일시', '대여 대여소번호', '이용시간', '이용거리'], dtype='object')\n",
      "C:/Code/regression/따릉이\\서울특별시 공공자전거 대여정보_201908_3.csv 29 12296195\n",
      "Index(['대여일시', '대여 대여소번호', '이용시간', '이용거리'], dtype='object')\n"
     ]
    }
   ],
   "metadata": {
    "scrolled": false
   }
  },
  {
   "cell_type": "code",
   "execution_count": null,
   "source": [
    "bike3"
   ],
   "outputs": [
    {
     "data": {
      "text/html": [
       "<div>\n",
       "<style scoped>\n",
       "    .dataframe tbody tr th:only-of-type {\n",
       "        vertical-align: middle;\n",
       "    }\n",
       "\n",
       "    .dataframe tbody tr th {\n",
       "        vertical-align: top;\n",
       "    }\n",
       "\n",
       "    .dataframe thead th {\n",
       "        text-align: right;\n",
       "    }\n",
       "</style>\n",
       "<table border=\"1\" class=\"dataframe\">\n",
       "  <thead>\n",
       "    <tr style=\"text-align: right;\">\n",
       "      <th></th>\n",
       "      <th>대여일시</th>\n",
       "      <th>대여소번호</th>\n",
       "      <th>이용시간_분</th>\n",
       "      <th>이용거리_M</th>\n",
       "    </tr>\n",
       "  </thead>\n",
       "  <tbody>\n",
       "    <tr>\n",
       "      <th>0</th>\n",
       "      <td>2018-12-01 0:00</td>\n",
       "      <td>1135</td>\n",
       "      <td>3</td>\n",
       "      <td>550.0</td>\n",
       "    </tr>\n",
       "    <tr>\n",
       "      <th>1</th>\n",
       "      <td>2018-12-01 0:01</td>\n",
       "      <td>1113</td>\n",
       "      <td>3</td>\n",
       "      <td>700.0</td>\n",
       "    </tr>\n",
       "    <tr>\n",
       "      <th>2</th>\n",
       "      <td>2018-12-01 0:01</td>\n",
       "      <td>3100</td>\n",
       "      <td>2</td>\n",
       "      <td>430.0</td>\n",
       "    </tr>\n",
       "    <tr>\n",
       "      <th>3</th>\n",
       "      <td>2018-12-01 0:00</td>\n",
       "      <td>1357</td>\n",
       "      <td>4</td>\n",
       "      <td>940.0</td>\n",
       "    </tr>\n",
       "    <tr>\n",
       "      <th>4</th>\n",
       "      <td>2018-12-01 0:01</td>\n",
       "      <td>3538</td>\n",
       "      <td>3</td>\n",
       "      <td>410.0</td>\n",
       "    </tr>\n",
       "    <tr>\n",
       "      <th>...</th>\n",
       "      <td>...</td>\n",
       "      <td>...</td>\n",
       "      <td>...</td>\n",
       "      <td>...</td>\n",
       "    </tr>\n",
       "    <tr>\n",
       "      <th>428693</th>\n",
       "      <td>2019-08-27 09:32:58</td>\n",
       "      <td>99999</td>\n",
       "      <td>2</td>\n",
       "      <td>0.0</td>\n",
       "    </tr>\n",
       "    <tr>\n",
       "      <th>428694</th>\n",
       "      <td>2019-08-27 11:29:56</td>\n",
       "      <td>99999</td>\n",
       "      <td>5</td>\n",
       "      <td>0.0</td>\n",
       "    </tr>\n",
       "    <tr>\n",
       "      <th>428695</th>\n",
       "      <td>2019-08-28 11:24:58</td>\n",
       "      <td>99999</td>\n",
       "      <td>2</td>\n",
       "      <td>0.0</td>\n",
       "    </tr>\n",
       "    <tr>\n",
       "      <th>428696</th>\n",
       "      <td>2019-08-28 12:59:58</td>\n",
       "      <td>99999</td>\n",
       "      <td>25</td>\n",
       "      <td>0.0</td>\n",
       "    </tr>\n",
       "    <tr>\n",
       "      <th>428697</th>\n",
       "      <td>2019-08-30 11:26:25</td>\n",
       "      <td>99999</td>\n",
       "      <td>2</td>\n",
       "      <td>0.0</td>\n",
       "    </tr>\n",
       "  </tbody>\n",
       "</table>\n",
       "<p>12296195 rows × 4 columns</p>\n",
       "</div>"
      ],
      "text/plain": [
       "                       대여일시  대여소번호  이용시간_분  이용거리_M\n",
       "0           2018-12-01 0:00   1135       3   550.0\n",
       "1           2018-12-01 0:01   1113       3   700.0\n",
       "2           2018-12-01 0:01   3100       2   430.0\n",
       "3           2018-12-01 0:00   1357       4   940.0\n",
       "4           2018-12-01 0:01   3538       3   410.0\n",
       "...                     ...    ...     ...     ...\n",
       "428693  2019-08-27 09:32:58  99999       2     0.0\n",
       "428694  2019-08-27 11:29:56  99999       5     0.0\n",
       "428695  2019-08-28 11:24:58  99999       2     0.0\n",
       "428696  2019-08-28 12:59:58  99999      25     0.0\n",
       "428697  2019-08-30 11:26:25  99999       2     0.0\n",
       "\n",
       "[12296195 rows x 4 columns]"
      ]
     },
     "metadata": {},
     "output_type": "display_data"
    }
   ],
   "metadata": {
    "scrolled": true
   }
  },
  {
   "cell_type": "code",
   "execution_count": null,
   "source": [
    "a4=0\r\n",
    "for i in range(30,38):\r\n",
    "    bike_data=pd.DataFrame(pd.read_csv(filenames[i],encoding='cp949',thousands = ','))\r\n",
    "    a4+=len(bike_data)\r\n",
    "    print(filenames[i],i,a4)\r\n",
    "    print(bike_data.columns[[1,2,9,10]])\r\n",
    "    bike_data=bike_data.iloc[:,[1,2,9,10]]\r\n",
    "    bike_data.columns=['대여일시','대여소번호','이용시간_분', '이용거리_M']\r\n",
    "    bike4=pd.concat([bike4,bike_data])"
   ],
   "outputs": [
    {
     "output_type": "stream",
     "name": "stdout",
     "text": [
      "C:/Code/regression/따릉이\\서울특별시 공공자전거 대여정보_201909_1.csv 30 800000\n",
      "Index(['대여일시', '대여 대여소번호', '이용시간', '이용거리'], dtype='object')\n",
      "C:/Code/regression/따릉이\\서울특별시 공공자전거 대여정보_201909_2.csv 31 1600000\n",
      "Index(['대여일시', '대여 대여소번호', '이용시간', '이용거리'], dtype='object')\n",
      "C:/Code/regression/따릉이\\서울특별시 공공자전거 대여정보_201909_3.csv 32 2007589\n",
      "Index(['대여일시', '대여 대여소번호', '이용시간', '이용거리'], dtype='object')\n",
      "C:/Code/regression/따릉이\\서울특별시 공공자전거 대여정보_201910_1.csv 33 2807589\n",
      "Index(['대여일시', '대여 대여소번호', '이용시간', '이용거리'], dtype='object')\n",
      "C:/Code/regression/따릉이\\서울특별시 공공자전거 대여정보_201910_2.csv 34 3607588\n",
      "Index(['대여일시', '대여 대여소번호', '이용시간', '이용거리'], dtype='object')\n",
      "C:/Code/regression/따릉이\\서울특별시 공공자전거 대여정보_201910_3.csv 35 4348612\n",
      "Index(['대여일시', '대여 대여소번호', '이용시간', '이용거리'], dtype='object')\n",
      "C:/Code/regression/따릉이\\서울특별시 공공자전거 대여정보_201911_1.csv 36 5148612\n",
      "Index(['대여일시', '대여 대여소번호', '이용시간', '이용거리'], dtype='object')\n",
      "C:/Code/regression/따릉이\\서울특별시 공공자전거 대여정보_201911_2.csv 37 5827442\n",
      "Index(['대여일시', '대여 대여소번호', '이용시간', '이용거리'], dtype='object')\n"
     ]
    }
   ],
   "metadata": {
    "scrolled": true
   }
  },
  {
   "cell_type": "code",
   "execution_count": null,
   "source": [
    "bike4"
   ],
   "outputs": [
    {
     "data": {
      "text/html": [
       "<div>\n",
       "<style scoped>\n",
       "    .dataframe tbody tr th:only-of-type {\n",
       "        vertical-align: middle;\n",
       "    }\n",
       "\n",
       "    .dataframe tbody tr th {\n",
       "        vertical-align: top;\n",
       "    }\n",
       "\n",
       "    .dataframe thead th {\n",
       "        text-align: right;\n",
       "    }\n",
       "</style>\n",
       "<table border=\"1\" class=\"dataframe\">\n",
       "  <thead>\n",
       "    <tr style=\"text-align: right;\">\n",
       "      <th></th>\n",
       "      <th>대여일시</th>\n",
       "      <th>대여소번호</th>\n",
       "      <th>이용시간_분</th>\n",
       "      <th>이용거리_M</th>\n",
       "    </tr>\n",
       "  </thead>\n",
       "  <tbody>\n",
       "    <tr>\n",
       "      <th>0</th>\n",
       "      <td>2019-09-03 08:44:43</td>\n",
       "      <td>646</td>\n",
       "      <td>23</td>\n",
       "      <td>1250.0</td>\n",
       "    </tr>\n",
       "    <tr>\n",
       "      <th>1</th>\n",
       "      <td>2019-09-04 00:10:08</td>\n",
       "      <td>1372</td>\n",
       "      <td>8</td>\n",
       "      <td>1620.0</td>\n",
       "    </tr>\n",
       "    <tr>\n",
       "      <th>2</th>\n",
       "      <td>2019-09-04 00:41:36</td>\n",
       "      <td>1337</td>\n",
       "      <td>21</td>\n",
       "      <td>0.0</td>\n",
       "    </tr>\n",
       "    <tr>\n",
       "      <th>3</th>\n",
       "      <td>2019-09-04 08:48:48</td>\n",
       "      <td>529</td>\n",
       "      <td>15</td>\n",
       "      <td>1220.0</td>\n",
       "    </tr>\n",
       "    <tr>\n",
       "      <th>4</th>\n",
       "      <td>2019-09-05 08:46:52</td>\n",
       "      <td>646</td>\n",
       "      <td>7</td>\n",
       "      <td>1360.0</td>\n",
       "    </tr>\n",
       "    <tr>\n",
       "      <th>...</th>\n",
       "      <td>...</td>\n",
       "      <td>...</td>\n",
       "      <td>...</td>\n",
       "      <td>...</td>\n",
       "    </tr>\n",
       "    <tr>\n",
       "      <th>5827437</th>\n",
       "      <td>2019-11-26 08:27:07</td>\n",
       "      <td>2183</td>\n",
       "      <td>59</td>\n",
       "      <td>8520.0</td>\n",
       "    </tr>\n",
       "    <tr>\n",
       "      <th>5827438</th>\n",
       "      <td>2019-11-27 08:26:19</td>\n",
       "      <td>2141</td>\n",
       "      <td>59</td>\n",
       "      <td>8680.0</td>\n",
       "    </tr>\n",
       "    <tr>\n",
       "      <th>5827439</th>\n",
       "      <td>2019-11-28 08:11:43</td>\n",
       "      <td>2183</td>\n",
       "      <td>40</td>\n",
       "      <td>10570.0</td>\n",
       "    </tr>\n",
       "    <tr>\n",
       "      <th>5827440</th>\n",
       "      <td>2019-11-29 08:12:31</td>\n",
       "      <td>2183</td>\n",
       "      <td>64</td>\n",
       "      <td>10560.0</td>\n",
       "    </tr>\n",
       "    <tr>\n",
       "      <th>5827441</th>\n",
       "      <td>2019-11-29 11:47:16</td>\n",
       "      <td>99999</td>\n",
       "      <td>76</td>\n",
       "      <td>2420.0</td>\n",
       "    </tr>\n",
       "  </tbody>\n",
       "</table>\n",
       "<p>5827442 rows × 4 columns</p>\n",
       "</div>"
      ],
      "text/plain": [
       "                        대여일시  대여소번호  이용시간_분   이용거리_M\n",
       "0        2019-09-03 08:44:43    646      23   1250.0\n",
       "1        2019-09-04 00:10:08   1372       8   1620.0\n",
       "2        2019-09-04 00:41:36   1337      21      0.0\n",
       "3        2019-09-04 08:48:48    529      15   1220.0\n",
       "4        2019-09-05 08:46:52    646       7   1360.0\n",
       "...                      ...    ...     ...      ...\n",
       "5827437  2019-11-26 08:27:07   2183      59   8520.0\n",
       "5827438  2019-11-27 08:26:19   2141      59   8680.0\n",
       "5827439  2019-11-28 08:11:43   2183      40  10570.0\n",
       "5827440  2019-11-29 08:12:31   2183      64  10560.0\n",
       "5827441  2019-11-29 11:47:16  99999      76   2420.0\n",
       "\n",
       "[5827442 rows x 4 columns]"
      ]
     },
     "metadata": {},
     "output_type": "display_data"
    }
   ],
   "metadata": {
    "scrolled": false
   }
  },
  {
   "cell_type": "code",
   "execution_count": null,
   "source": [
    "path ='C:/Code/regression/따릉이'\r\n",
    "filenames = glob.glob(path + \"/서울특별시*.xlsx\")"
   ],
   "outputs": [],
   "metadata": {}
  },
  {
   "cell_type": "code",
   "execution_count": null,
   "source": [
    "filenames"
   ],
   "outputs": [
    {
     "data": {
      "text/plain": [
       "['C:/Code/regression/따릉이\\\\서울특별시 공공자전거 대여정보_201807_01.xlsx',\n",
       " 'C:/Code/regression/따릉이\\\\서울특별시 공공자전거 대여정보_201807_02.xlsx',\n",
       " 'C:/Code/regression/따릉이\\\\서울특별시 공공자전거 대여정보_201808.xlsx',\n",
       " 'C:/Code/regression/따릉이\\\\서울특별시 공공자전거 대여정보_201809_1.xlsx',\n",
       " 'C:/Code/regression/따릉이\\\\서울특별시 공공자전거 대여정보_201809_2.xlsx',\n",
       " 'C:/Code/regression/따릉이\\\\서울특별시 공공자전거 대여정보_201810_01.xlsx',\n",
       " 'C:/Code/regression/따릉이\\\\서울특별시 공공자전거 대여정보_201810_02.xlsx',\n",
       " 'C:/Code/regression/따릉이\\\\서울특별시 공공자전거 대여정보_201811.xlsx']"
      ]
     },
     "metadata": {},
     "output_type": "display_data"
    }
   ],
   "metadata": {}
  },
  {
   "cell_type": "code",
   "execution_count": null,
   "source": [
    "bike5=pd.DataFrame()"
   ],
   "outputs": [],
   "metadata": {}
  },
  {
   "cell_type": "code",
   "execution_count": null,
   "source": [
    "%%time\r\n",
    "a5=0\r\n",
    "for i in range(len(filenames)):\r\n",
    "    bike_data=pd.DataFrame(pd.read_excel(filenames[i],sheet_name=\"Sheet1\",encoding='euc-kr',thousands = ','))\r\n",
    "    a5+=len(bike_data)\r\n",
    "    print(filenames[i],i,a5)\r\n",
    "    print(bike_data.columns[[1,2,9,10]])\r\n",
    "    bike_data=bike_data.iloc[:,[1,2,9,10]]\r\n",
    "    bike_data.columns=['대여일시','대여소번호','이용시간_분', '이용거리_M']\r\n",
    "    bike5=pd.concat([bike5,bike_data])"
   ],
   "outputs": [
    {
     "output_type": "stream",
     "name": "stdout",
     "text": [
      "Wall time: 983 µs\n",
      "C:/Code/regression/따릉이\\서울특별시 공공자전거 대여정보_201807_01.xlsx 0 1048575\n",
      "Index(['대여일시', '대여소번호', '이용시간', '이용거리'], dtype='object')\n",
      "C:/Code/regression/따릉이\\서울특별시 공공자전거 대여정보_201807_02.xlsx 1 1089882\n",
      "Index(['대여일시', '대여소번호', '이용시간', '이용거리'], dtype='object')\n",
      "C:/Code/regression/따릉이\\서울특별시 공공자전거 대여정보_201808.xlsx 2 2115975\n",
      "Index(['대여일시', '대여소번호', '이용시간', '이용거리'], dtype='object')\n",
      "C:/Code/regression/따릉이\\서울특별시 공공자전거 대여정보_201809_1.xlsx 3 3164550\n",
      "Index(['대여일시', '대여소번호', '이용시간', '이용거리'], dtype='object')\n",
      "C:/Code/regression/따릉이\\서울특별시 공공자전거 대여정보_201809_2.xlsx 4 3549617\n",
      "Index(['대여일시', '대여소번호', '이용시간', '이용거리'], dtype='object')\n",
      "C:/Code/regression/따릉이\\서울특별시 공공자전거 대여정보_201810_01.xlsx 5 4598192\n",
      "Index(['대여일시', '대여소번호', '이용시간', '이용거리'], dtype='object')\n",
      "C:/Code/regression/따릉이\\서울특별시 공공자전거 대여정보_201810_02.xlsx 6 4964657\n",
      "Index(['대여일시', '대여소번호', '이용시간', '이용거리'], dtype='object')\n",
      "C:/Code/regression/따릉이\\서울특별시 공공자전거 대여정보_201811.xlsx 7 5922910\n",
      "Index(['대여일시', '대여소번호', '이용시간', '이용거리'], dtype='object')\n"
     ]
    }
   ],
   "metadata": {}
  },
  {
   "cell_type": "code",
   "execution_count": null,
   "source": [
    "bike5"
   ],
   "outputs": [
    {
     "data": {
      "text/html": [
       "<div>\n",
       "<style scoped>\n",
       "    .dataframe tbody tr th:only-of-type {\n",
       "        vertical-align: middle;\n",
       "    }\n",
       "\n",
       "    .dataframe tbody tr th {\n",
       "        vertical-align: top;\n",
       "    }\n",
       "\n",
       "    .dataframe thead th {\n",
       "        text-align: right;\n",
       "    }\n",
       "</style>\n",
       "<table border=\"1\" class=\"dataframe\">\n",
       "  <thead>\n",
       "    <tr style=\"text-align: right;\">\n",
       "      <th></th>\n",
       "      <th>대여일시</th>\n",
       "      <th>대여소번호</th>\n",
       "      <th>이용시간_분</th>\n",
       "      <th>이용거리_M</th>\n",
       "    </tr>\n",
       "  </thead>\n",
       "  <tbody>\n",
       "    <tr>\n",
       "      <th>0</th>\n",
       "      <td>2018-07-01 00:00:30</td>\n",
       "      <td>2226</td>\n",
       "      <td>3</td>\n",
       "      <td>570</td>\n",
       "    </tr>\n",
       "    <tr>\n",
       "      <th>1</th>\n",
       "      <td>2018-07-01 00:01:29</td>\n",
       "      <td>129</td>\n",
       "      <td>3</td>\n",
       "      <td>660</td>\n",
       "    </tr>\n",
       "    <tr>\n",
       "      <th>2</th>\n",
       "      <td>2018-07-01 00:02:19</td>\n",
       "      <td>1351</td>\n",
       "      <td>2</td>\n",
       "      <td>20</td>\n",
       "    </tr>\n",
       "    <tr>\n",
       "      <th>3</th>\n",
       "      <td>2018-07-01 00:00:43</td>\n",
       "      <td>954</td>\n",
       "      <td>4</td>\n",
       "      <td>680</td>\n",
       "    </tr>\n",
       "    <tr>\n",
       "      <th>4</th>\n",
       "      <td>2018-07-01 00:02:35</td>\n",
       "      <td>623</td>\n",
       "      <td>2</td>\n",
       "      <td>10</td>\n",
       "    </tr>\n",
       "    <tr>\n",
       "      <th>...</th>\n",
       "      <td>...</td>\n",
       "      <td>...</td>\n",
       "      <td>...</td>\n",
       "      <td>...</td>\n",
       "    </tr>\n",
       "    <tr>\n",
       "      <th>958248</th>\n",
       "      <td>2018-11-30 23:04:14</td>\n",
       "      <td>2266</td>\n",
       "      <td>230</td>\n",
       "      <td>3940</td>\n",
       "    </tr>\n",
       "    <tr>\n",
       "      <th>958249</th>\n",
       "      <td>2018-11-30 23:45:53</td>\n",
       "      <td>1308</td>\n",
       "      <td>184</td>\n",
       "      <td>1200</td>\n",
       "    </tr>\n",
       "    <tr>\n",
       "      <th>958250</th>\n",
       "      <td>2018-11-30 23:01:20</td>\n",
       "      <td>406</td>\n",
       "      <td>370</td>\n",
       "      <td>1650</td>\n",
       "    </tr>\n",
       "    <tr>\n",
       "      <th>958251</th>\n",
       "      <td>2018-11-30 23:25:14</td>\n",
       "      <td>2213</td>\n",
       "      <td>551</td>\n",
       "      <td>6410</td>\n",
       "    </tr>\n",
       "    <tr>\n",
       "      <th>958252</th>\n",
       "      <td>2018-11-30 23:44:24</td>\n",
       "      <td>141</td>\n",
       "      <td>578</td>\n",
       "      <td>1930</td>\n",
       "    </tr>\n",
       "  </tbody>\n",
       "</table>\n",
       "<p>5922910 rows × 4 columns</p>\n",
       "</div>"
      ],
      "text/plain": [
       "                      대여일시  대여소번호  이용시간_분  이용거리_M\n",
       "0      2018-07-01 00:00:30   2226       3     570\n",
       "1      2018-07-01 00:01:29    129       3     660\n",
       "2      2018-07-01 00:02:19   1351       2      20\n",
       "3      2018-07-01 00:00:43    954       4     680\n",
       "4      2018-07-01 00:02:35    623       2      10\n",
       "...                    ...    ...     ...     ...\n",
       "958248 2018-11-30 23:04:14   2266     230    3940\n",
       "958249 2018-11-30 23:45:53   1308     184    1200\n",
       "958250 2018-11-30 23:01:20    406     370    1650\n",
       "958251 2018-11-30 23:25:14   2213     551    6410\n",
       "958252 2018-11-30 23:44:24    141     578    1930\n",
       "\n",
       "[5922910 rows x 4 columns]"
      ]
     },
     "metadata": {},
     "output_type": "display_data"
    }
   ],
   "metadata": {
    "scrolled": false
   }
  },
  {
   "cell_type": "code",
   "execution_count": null,
   "source": [
    "bike1[bike1[\"대여소번호\"].isnull()]"
   ],
   "outputs": [
    {
     "data": {
      "text/html": [
       "<div>\n",
       "<style scoped>\n",
       "    .dataframe tbody tr th:only-of-type {\n",
       "        vertical-align: middle;\n",
       "    }\n",
       "\n",
       "    .dataframe tbody tr th {\n",
       "        vertical-align: top;\n",
       "    }\n",
       "\n",
       "    .dataframe thead th {\n",
       "        text-align: right;\n",
       "    }\n",
       "</style>\n",
       "<table border=\"1\" class=\"dataframe\">\n",
       "  <thead>\n",
       "    <tr style=\"text-align: right;\">\n",
       "      <th></th>\n",
       "      <th>대여일시</th>\n",
       "      <th>대여소번호</th>\n",
       "      <th>이용시간_분</th>\n",
       "      <th>이용거리_M</th>\n",
       "    </tr>\n",
       "  </thead>\n",
       "  <tbody>\n",
       "  </tbody>\n",
       "</table>\n",
       "</div>"
      ],
      "text/plain": [
       "Empty DataFrame\n",
       "Columns: [대여일시, 대여소번호, 이용시간_분, 이용거리_M]\n",
       "Index: []"
      ]
     },
     "metadata": {},
     "output_type": "display_data"
    }
   ],
   "metadata": {
    "scrolled": true
   }
  },
  {
   "cell_type": "code",
   "execution_count": null,
   "source": [
    "bike2[bike2[\"대여소번호\"].isnull()]"
   ],
   "outputs": [
    {
     "data": {
      "text/html": [
       "<div>\n",
       "<style scoped>\n",
       "    .dataframe tbody tr th:only-of-type {\n",
       "        vertical-align: middle;\n",
       "    }\n",
       "\n",
       "    .dataframe tbody tr th {\n",
       "        vertical-align: top;\n",
       "    }\n",
       "\n",
       "    .dataframe thead th {\n",
       "        text-align: right;\n",
       "    }\n",
       "</style>\n",
       "<table border=\"1\" class=\"dataframe\">\n",
       "  <thead>\n",
       "    <tr style=\"text-align: right;\">\n",
       "      <th></th>\n",
       "      <th>대여일시</th>\n",
       "      <th>대여소번호</th>\n",
       "      <th>이용시간_분</th>\n",
       "      <th>이용거리_M</th>\n",
       "    </tr>\n",
       "  </thead>\n",
       "  <tbody>\n",
       "  </tbody>\n",
       "</table>\n",
       "</div>"
      ],
      "text/plain": [
       "Empty DataFrame\n",
       "Columns: [대여일시, 대여소번호, 이용시간_분, 이용거리_M]\n",
       "Index: []"
      ]
     },
     "metadata": {},
     "output_type": "display_data"
    }
   ],
   "metadata": {}
  },
  {
   "cell_type": "code",
   "execution_count": null,
   "source": [
    "bike3[bike3[\"대여소번호\"].isnull()]"
   ],
   "outputs": [
    {
     "data": {
      "text/html": [
       "<div>\n",
       "<style scoped>\n",
       "    .dataframe tbody tr th:only-of-type {\n",
       "        vertical-align: middle;\n",
       "    }\n",
       "\n",
       "    .dataframe tbody tr th {\n",
       "        vertical-align: top;\n",
       "    }\n",
       "\n",
       "    .dataframe thead th {\n",
       "        text-align: right;\n",
       "    }\n",
       "</style>\n",
       "<table border=\"1\" class=\"dataframe\">\n",
       "  <thead>\n",
       "    <tr style=\"text-align: right;\">\n",
       "      <th></th>\n",
       "      <th>대여일시</th>\n",
       "      <th>대여소번호</th>\n",
       "      <th>이용시간_분</th>\n",
       "      <th>이용거리_M</th>\n",
       "    </tr>\n",
       "  </thead>\n",
       "  <tbody>\n",
       "  </tbody>\n",
       "</table>\n",
       "</div>"
      ],
      "text/plain": [
       "Empty DataFrame\n",
       "Columns: [대여일시, 대여소번호, 이용시간_분, 이용거리_M]\n",
       "Index: []"
      ]
     },
     "metadata": {},
     "output_type": "display_data"
    }
   ],
   "metadata": {}
  },
  {
   "cell_type": "code",
   "execution_count": null,
   "source": [
    "bike4[bike4[\"대여소번호\"].isnull()]"
   ],
   "outputs": [
    {
     "data": {
      "text/html": [
       "<div>\n",
       "<style scoped>\n",
       "    .dataframe tbody tr th:only-of-type {\n",
       "        vertical-align: middle;\n",
       "    }\n",
       "\n",
       "    .dataframe tbody tr th {\n",
       "        vertical-align: top;\n",
       "    }\n",
       "\n",
       "    .dataframe thead th {\n",
       "        text-align: right;\n",
       "    }\n",
       "</style>\n",
       "<table border=\"1\" class=\"dataframe\">\n",
       "  <thead>\n",
       "    <tr style=\"text-align: right;\">\n",
       "      <th></th>\n",
       "      <th>대여일시</th>\n",
       "      <th>대여소번호</th>\n",
       "      <th>이용시간_분</th>\n",
       "      <th>이용거리_M</th>\n",
       "    </tr>\n",
       "  </thead>\n",
       "  <tbody>\n",
       "  </tbody>\n",
       "</table>\n",
       "</div>"
      ],
      "text/plain": [
       "Empty DataFrame\n",
       "Columns: [대여일시, 대여소번호, 이용시간_분, 이용거리_M]\n",
       "Index: []"
      ]
     },
     "metadata": {},
     "output_type": "display_data"
    }
   ],
   "metadata": {}
  },
  {
   "cell_type": "code",
   "execution_count": null,
   "source": [
    "bike5[bike5[\"대여소번호\"].isnull()]"
   ],
   "outputs": [
    {
     "data": {
      "text/html": [
       "<div>\n",
       "<style scoped>\n",
       "    .dataframe tbody tr th:only-of-type {\n",
       "        vertical-align: middle;\n",
       "    }\n",
       "\n",
       "    .dataframe tbody tr th {\n",
       "        vertical-align: top;\n",
       "    }\n",
       "\n",
       "    .dataframe thead th {\n",
       "        text-align: right;\n",
       "    }\n",
       "</style>\n",
       "<table border=\"1\" class=\"dataframe\">\n",
       "  <thead>\n",
       "    <tr style=\"text-align: right;\">\n",
       "      <th></th>\n",
       "      <th>대여일시</th>\n",
       "      <th>대여소번호</th>\n",
       "      <th>이용시간_분</th>\n",
       "      <th>이용거리_M</th>\n",
       "    </tr>\n",
       "  </thead>\n",
       "  <tbody>\n",
       "  </tbody>\n",
       "</table>\n",
       "</div>"
      ],
      "text/plain": [
       "Empty DataFrame\n",
       "Columns: [대여일시, 대여소번호, 이용시간_분, 이용거리_M]\n",
       "Index: []"
      ]
     },
     "metadata": {},
     "output_type": "display_data"
    }
   ],
   "metadata": {}
  },
  {
   "cell_type": "markdown",
   "source": [
    "### bike전처리"
   ],
   "metadata": {}
  },
  {
   "cell_type": "code",
   "execution_count": null,
   "source": [
    "bike1=pd.read_csv(\"bike1.csv\",encoding='euc-kr',thousands = ',')\r\n",
    "bike2=pd.read_csv(\"bike2.csv\",encoding='euc-kr',thousands = ',')\r\n",
    "bike3=pd.read_csv(\"bike3.csv\",encoding='euc-kr',thousands = ',')\r\n",
    "bike4=pd.read_csv(\"bike4.csv\",encoding='euc-kr',thousands = ',')\r\n",
    "bike5=pd.read_csv(\"bike5.csv\",encoding='euc-kr',thousands = ',')"
   ],
   "outputs": [],
   "metadata": {}
  },
  {
   "cell_type": "code",
   "execution_count": null,
   "source": [
    "# 특수기호 제외"
   ],
   "outputs": [],
   "metadata": {}
  },
  {
   "cell_type": "code",
   "execution_count": null,
   "source": [
    "bike1[\"대여일시\"]=bike1[\"대여일시\"].str.replace(pat=r'[^\\sA-Za-z0-9:-]', repl= r'', regex=True)\r\n",
    "bike2[\"대여일시\"]=bike2[\"대여일시\"].str.replace(pat=r'[^\\sA-Za-z0-9:-]', repl= r'', regex=True)\r\n",
    "bike3[\"대여일시\"]=bike3[\"대여일시\"].str.replace(pat=r'[^\\sA-Za-z0-9:-]', repl= r'', regex=True)\r\n",
    "bike4[\"대여일시\"]=bike4[\"대여일시\"].str.replace(pat=r'[^\\sA-Za-z0-9:-]', repl= r'', regex=True)\r\n",
    "bike5[\"대여일시\"]=bike5[\"대여일시\"].str.replace(pat=r'[^\\sA-Za-z0-9:-]', repl= r'', regex=True)\r\n",
    "# bike5이미 타임 스탬프 형식"
   ],
   "outputs": [],
   "metadata": {
    "scrolled": false
   }
  },
  {
   "cell_type": "code",
   "execution_count": null,
   "source": [
    "bike1[\"대여소번호\"]=bike1[\"대여소번호\"].str.replace(pat=r\"[\\s']\", repl= r'', regex=True)\r\n",
    "bike2[\"대여소번호\"]=bike2[\"대여소번호\"].str.replace(pat=r\"[\\s']\", repl= r'', regex=True)\r\n",
    "# bike3[\"대여소번호\"]=bike3[\"대여소번호\"].str.replace(pat=r\"[\\s']\", repl= r'', regex=True)\r\n",
    "# bike4[\"대여소번호\"]=bike4[\"대여소번호\"].str.replace(pat=r\"[\\s']\", repl= r'', regex=True)\r\n",
    "# bike5[\"대여소번호\"]=bike5[\"대여소번호\"].str.replace(pat=r\"[\\s']\", repl= r'', regex=True)"
   ],
   "outputs": [],
   "metadata": {}
  },
  {
   "cell_type": "code",
   "execution_count": null,
   "source": [
    "# 대여일시 문자형을 datetime형태로"
   ],
   "outputs": [],
   "metadata": {}
  },
  {
   "cell_type": "code",
   "execution_count": null,
   "source": [
    "bike1['대여일시']=pd.to_datetime(bike1['대여일시'])\r\n",
    "bike2['대여일시']=pd.to_datetime(bike2['대여일시'])\r\n",
    "bike3['대여일시']=pd.to_datetime(bike3['대여일시'])\r\n",
    "bike4['대여일시']=pd.to_datetime(bike4['대여일시'])\r\n",
    "bike5['대여일시']=pd.to_datetime(bike5['대여일시'])"
   ],
   "outputs": [],
   "metadata": {}
  },
  {
   "cell_type": "markdown",
   "source": [
    "### 대여소가 아닌 정비소나 자전거보관하는 위치는 제거"
   ],
   "metadata": {}
  },
  {
   "cell_type": "code",
   "execution_count": null,
   "source": [
    "bike1=bike1[bike1.대여소번호!='중랑센터']"
   ],
   "outputs": [],
   "metadata": {}
  },
  {
   "cell_type": "code",
   "execution_count": null,
   "source": [
    "bike1=bike1[bike1.대여소번호!='상암센터정비실']"
   ],
   "outputs": [],
   "metadata": {
    "scrolled": true
   }
  },
  {
   "cell_type": "code",
   "execution_count": null,
   "source": [
    "bike1=bike1[bike1.대여소번호!='위트콤공장']"
   ],
   "outputs": [],
   "metadata": {}
  },
  {
   "cell_type": "code",
   "execution_count": null,
   "source": [
    "bike1=bike1[bike1.대여소번호!='중랑정비팀test1005']"
   ],
   "outputs": [],
   "metadata": {}
  },
  {
   "cell_type": "code",
   "execution_count": null,
   "source": [
    "bike1.대여소번호=bike1.대여소번호.astype('int')"
   ],
   "outputs": [],
   "metadata": {
    "scrolled": true
   }
  },
  {
   "cell_type": "code",
   "execution_count": null,
   "source": [
    "bike2=bike2[~bike2.대여소번호.isin(['중랑정비팀test1005','위트콤','위트콤공장','상암센터정비실','중랑센터'])]"
   ],
   "outputs": [],
   "metadata": {
    "scrolled": true
   }
  },
  {
   "cell_type": "code",
   "execution_count": null,
   "source": [
    "bike2.대여소번호=bike2.대여소번호.astype('int')"
   ],
   "outputs": [],
   "metadata": {}
  },
  {
   "cell_type": "code",
   "execution_count": null,
   "source": [
    "bike4.이용거리_M=bike4.이용거리_M.astype('int')"
   ],
   "outputs": [],
   "metadata": {
    "scrolled": true
   }
  },
  {
   "cell_type": "code",
   "execution_count": null,
   "source": [
    "len(bike1)+len(bike2)+len(bike3)+len(bike4)+len(bike5)"
   ],
   "outputs": [
    {
     "data": {
      "text/plain": [
       "34168664"
      ]
     },
     "metadata": {},
     "output_type": "display_data"
    }
   ],
   "metadata": {}
  },
  {
   "cell_type": "markdown",
   "source": [
    "### 5개로 쪼개진 bike데이터셋들 이용거리 0인경우 제거하고 연도별로 다시 저장, 처음부터 연도별로 dataframe을 만들걸이라는 생각..\r\n",
    "### len(bike)-len(bike[bike.이용거리_M==0]) =33425895 다합치니까(bike)돌아가질 않음.."
   ],
   "metadata": {}
  },
  {
   "cell_type": "code",
   "execution_count": null,
   "source": [
    "bike1=bike1[bike1.이용거리_M!=0]\r\n",
    "bike2=bike2[bike2.이용거리_M!=0]\r\n",
    "bike3=bike3[bike3.이용거리_M!=0]\r\n",
    "bike4=bike4[bike4.이용거리_M!=0]\r\n",
    "bike5=bike5[bike5.이용거리_M!=0]"
   ],
   "outputs": [],
   "metadata": {}
  },
  {
   "cell_type": "code",
   "execution_count": null,
   "source": [
    "bike_2016=bike1[bike1.대여일시.apply(lambda a:np.where(a.year==2016,True,False))]"
   ],
   "outputs": [],
   "metadata": {}
  },
  {
   "cell_type": "code",
   "execution_count": null,
   "source": [
    "bike_2017=bike1[bike1.대여일시.apply(lambda a:np.where(a.year==2017,True,False))]"
   ],
   "outputs": [],
   "metadata": {}
  },
  {
   "cell_type": "code",
   "execution_count": null,
   "source": [
    "bike_2018_1=bike1[bike1.대여일시.apply(lambda a:np.where(a.year==2018,True,False))]"
   ],
   "outputs": [],
   "metadata": {}
  },
  {
   "cell_type": "code",
   "execution_count": null,
   "source": [
    "bike_2018_2=bike2[:]"
   ],
   "outputs": [],
   "metadata": {}
  },
  {
   "cell_type": "code",
   "execution_count": null,
   "source": [
    "bike_2018_3=bike3[bike3.대여일시.apply(lambda a:np.where(a.year==2018,True,False))]"
   ],
   "outputs": [],
   "metadata": {}
  },
  {
   "cell_type": "code",
   "execution_count": null,
   "source": [
    "bike_2018_5=bike5[:]"
   ],
   "outputs": [],
   "metadata": {}
  },
  {
   "cell_type": "code",
   "execution_count": null,
   "source": [
    "bik_2019_3=bike3[bike3.대여일시.apply(lambda a:np.where(a.year==2019,True,False))]"
   ],
   "outputs": [],
   "metadata": {}
  },
  {
   "cell_type": "code",
   "execution_count": null,
   "source": [
    "bike_2019_4=bike4[:]"
   ],
   "outputs": [],
   "metadata": {
    "scrolled": false
   }
  },
  {
   "cell_type": "code",
   "execution_count": null,
   "source": [
    "bike_2018=pd.concat([bike_2018_1,bike_2018_2,bike_2018_3,bike_2018_5])\r\n",
    "bike_2019=pd.concat([bik_2019_3,bike_2019_4])"
   ],
   "outputs": [],
   "metadata": {}
  },
  {
   "cell_type": "code",
   "execution_count": null,
   "source": [
    "len(bike_2016)+len(bike_2017)+len(bike_2018)+len(bike_2019)"
   ],
   "outputs": [
    {
     "data": {
      "text/plain": [
       "33425895"
      ]
     },
     "metadata": {},
     "output_type": "display_data"
    }
   ],
   "metadata": {
    "scrolled": true
   }
  },
  {
   "cell_type": "code",
   "execution_count": null,
   "source": [
    "# 시속 계산\r\n",
    "bike_2016['시속']=round(bike_2016.이용거리_M/1000,2)/round(bike_2016.이용시간_분/60,2)\r\n",
    "bike_2017['시속']=round(bike_2017.이용거리_M/1000,2)/round(bike_2017.이용시간_분/60,2)\r\n",
    "bike_2018['시속']=round(bike_2018.이용거리_M/1000,2)/round(bike_2018.이용시간_분/60,2)\r\n",
    "bike_2019['시속']=round(bike_2019.이용거리_M/1000,2)/round(bike_2019.이용시간_분/60,2)"
   ],
   "outputs": [],
   "metadata": {}
  },
  {
   "cell_type": "code",
   "execution_count": null,
   "source": [
    "# 대여일시 날짜형식으로 변환\r\n",
    "bike_2016.대여일시=pd.to_datetime(bike_2016['대여일시'])\r\n",
    "bike_2017.대여일시=pd.to_datetime(bike_2017['대여일시'])\r\n",
    "bike_2018.대여일시=pd.to_datetime(bike_2018['대여일시'])\r\n",
    "bike_2019.대여일시=pd.to_datetime(bike_2019['대여일시'])"
   ],
   "outputs": [],
   "metadata": {}
  },
  {
   "cell_type": "code",
   "execution_count": null,
   "source": [
    "# 16,17은 0분 없음\r\n",
    "bike_2016=bike_2016[bike_2016.이용시간_분!=0]\r\n",
    "bike_2017=bike_2017[bike_2017.이용시간_분!=0]\r\n",
    "bike_2018=bike_2018[bike_2018.이용시간_분!=0]\r\n",
    "bike_2019=bike_2019[bike_2019.이용시간_분!=0]"
   ],
   "outputs": [],
   "metadata": {}
  },
  {
   "cell_type": "markdown",
   "source": [
    "bike_2016.to_csv(\"bike_2016.csv\",index=False,encoding=\"euc-kr\")\n",
    "bike_2017.to_csv(\"bike_2017.csv\",index=False,encoding=\"euc-kr\")\n",
    "bike_2018.to_csv(\"bike_2018.csv\",index=False,encoding=\"euc-kr\")\n",
    "bike_2019.to_csv(\"bike_2019.csv\",index=False,encoding=\"euc-kr\")"
   ],
   "metadata": {}
  },
  {
   "cell_type": "markdown",
   "source": [
    "#### 이상치 제외\n",
    "```\n",
    "이동거리 0.75+2IQR 초과 -> 극단적으로 많은 거리 이동\n",
    "이용시간 0.75+2IQR 초과 -> 극단적으로 오랜시간 이용\n",
    "속력 35이상인경우 -> 자전거의경우 25km/h만 넘어가도 상당히 빠르다, 또한 상급 동호인들의 경우에나 40km/h이상의 속력을 내기도 한다\n",
    "속력 5 미만 -> 걷는속력이 보통 4\n",
    "```"
   ],
   "metadata": {}
  },
  {
   "cell_type": "code",
   "execution_count": null,
   "source": [
    "# 이상치 수준 확인\r\n",
    "np.quantile(bike_2018.이용거리_M,0.75)+(2*(np.quantile(bike_2018.이용거리_M,0.75)-np.percentile(bike_2018.이용거리_M,25)))"
   ],
   "outputs": [
    {
     "data": {
      "text/plain": [
       "12140.0"
      ]
     },
     "metadata": {},
     "output_type": "display_data"
    }
   ],
   "metadata": {
    "scrolled": true
   }
  },
  {
   "cell_type": "code",
   "execution_count": null,
   "source": [
    "bike_2016=pd.read_csv(\"bike_2016.csv\",encoding=\"euc-kr\")\r\n",
    "bike_2017=pd.read_csv(\"bike_2017.csv\",encoding=\"euc-kr\")\r\n",
    "bike_2018=pd.read_csv(\"bike_2018.csv\",encoding=\"euc-kr\")\r\n",
    "bike_2019=pd.read_csv(\"bike_2019.csv\",encoding=\"euc-kr\")"
   ],
   "outputs": [],
   "metadata": {}
  },
  {
   "cell_type": "code",
   "execution_count": null,
   "source": [
    "def out_outlier(data):\r\n",
    "    dist=0\r\n",
    "    time=0\r\n",
    "    dist=np.quantile(data.이용거리_M,0.75)+(2*(np.quantile(data.이용거리_M,0.75)-np.quantile(data.이용거리_M,0.25)))\r\n",
    "    time=np.quantile(data.이용시간_분,0.75)+(2*(np.quantile(data.이용시간_분,0.75)-np.quantile(data.이용시간_분,0.25)))\r\n",
    "#     아웃라이어 제거\r\n",
    "    a=data[~((data.이용거리_M>dist)|(data.이용시간_분>time))]\r\n",
    "#     시속 5이상 35미만\r\n",
    "    a=a[(a.시속>=5)&(a.시속<35)]\r\n",
    "    return a"
   ],
   "outputs": [],
   "metadata": {}
  },
  {
   "cell_type": "code",
   "execution_count": null,
   "source": [
    "bike_2016=out_outlier(bike_2016)\r\n",
    "bike_2017=out_outlier(bike_2017)\r\n",
    "bike_2018=out_outlier(bike_2018)\r\n",
    "bike_2019=out_outlier(bike_2019)"
   ],
   "outputs": [],
   "metadata": {}
  },
  {
   "cell_type": "markdown",
   "source": [
    "#### 대여일시 년-월-일만 남김"
   ],
   "metadata": {}
  },
  {
   "cell_type": "code",
   "execution_count": null,
   "source": [
    "bike_2016.대여일시=bike_2016.대여일시.apply(lambda a:a.split(\" \")[0])\r\n",
    "bike_2017.대여일시=bike_2017.대여일시.apply(lambda a:a.split(\" \")[0])\r\n",
    "bike_2018.대여일시=bike_2018.대여일시.apply(lambda a:a.split(\" \")[0])\r\n",
    "bike_2019.대여일시=bike_2019.대여일시.apply(lambda a:a.split(\" \")[0])"
   ],
   "outputs": [],
   "metadata": {
    "scrolled": true
   }
  },
  {
   "cell_type": "code",
   "execution_count": null,
   "source": [
    "bike_2016.대여일시[0]"
   ],
   "outputs": [
    {
     "data": {
      "text/plain": [
       "'2016-01-01'"
      ]
     },
     "metadata": {},
     "output_type": "display_data"
    }
   ],
   "metadata": {}
  },
  {
   "cell_type": "code",
   "execution_count": null,
   "source": [
    "bike_2016"
   ],
   "outputs": [
    {
     "data": {
      "text/html": [
       "<div>\n",
       "<style scoped>\n",
       "    .dataframe tbody tr th:only-of-type {\n",
       "        vertical-align: middle;\n",
       "    }\n",
       "\n",
       "    .dataframe tbody tr th {\n",
       "        vertical-align: top;\n",
       "    }\n",
       "\n",
       "    .dataframe thead th {\n",
       "        text-align: right;\n",
       "    }\n",
       "</style>\n",
       "<table border=\"1\" class=\"dataframe\">\n",
       "  <thead>\n",
       "    <tr style=\"text-align: right;\">\n",
       "      <th></th>\n",
       "      <th>대여일시</th>\n",
       "      <th>대여소번호</th>\n",
       "      <th>이용시간_분</th>\n",
       "      <th>이용거리_M</th>\n",
       "      <th>시속</th>\n",
       "    </tr>\n",
       "  </thead>\n",
       "  <tbody>\n",
       "    <tr>\n",
       "      <th>0</th>\n",
       "      <td>2016-01-01</td>\n",
       "      <td>112</td>\n",
       "      <td>24</td>\n",
       "      <td>4140</td>\n",
       "      <td>10.350000</td>\n",
       "    </tr>\n",
       "    <tr>\n",
       "      <th>1</th>\n",
       "      <td>2016-01-01</td>\n",
       "      <td>113</td>\n",
       "      <td>24</td>\n",
       "      <td>2850</td>\n",
       "      <td>7.125000</td>\n",
       "    </tr>\n",
       "    <tr>\n",
       "      <th>2</th>\n",
       "      <td>2016-01-01</td>\n",
       "      <td>211</td>\n",
       "      <td>7</td>\n",
       "      <td>1020</td>\n",
       "      <td>8.500000</td>\n",
       "    </tr>\n",
       "    <tr>\n",
       "      <th>3</th>\n",
       "      <td>2016-01-01</td>\n",
       "      <td>113</td>\n",
       "      <td>22</td>\n",
       "      <td>2850</td>\n",
       "      <td>7.702703</td>\n",
       "    </tr>\n",
       "    <tr>\n",
       "      <th>4</th>\n",
       "      <td>2016-01-01</td>\n",
       "      <td>335</td>\n",
       "      <td>19</td>\n",
       "      <td>2190</td>\n",
       "      <td>6.843750</td>\n",
       "    </tr>\n",
       "    <tr>\n",
       "      <th>...</th>\n",
       "      <td>...</td>\n",
       "      <td>...</td>\n",
       "      <td>...</td>\n",
       "      <td>...</td>\n",
       "      <td>...</td>\n",
       "    </tr>\n",
       "    <tr>\n",
       "      <th>1548617</th>\n",
       "      <td>2016-12-31</td>\n",
       "      <td>199</td>\n",
       "      <td>8</td>\n",
       "      <td>1490</td>\n",
       "      <td>11.461538</td>\n",
       "    </tr>\n",
       "    <tr>\n",
       "      <th>1548618</th>\n",
       "      <td>2016-12-31</td>\n",
       "      <td>115</td>\n",
       "      <td>4</td>\n",
       "      <td>1100</td>\n",
       "      <td>15.714286</td>\n",
       "    </tr>\n",
       "    <tr>\n",
       "      <th>1548619</th>\n",
       "      <td>2016-12-31</td>\n",
       "      <td>623</td>\n",
       "      <td>3</td>\n",
       "      <td>770</td>\n",
       "      <td>15.400000</td>\n",
       "    </tr>\n",
       "    <tr>\n",
       "      <th>1548620</th>\n",
       "      <td>2016-12-31</td>\n",
       "      <td>320</td>\n",
       "      <td>7</td>\n",
       "      <td>740</td>\n",
       "      <td>6.166667</td>\n",
       "    </tr>\n",
       "    <tr>\n",
       "      <th>1548621</th>\n",
       "      <td>2016-12-31</td>\n",
       "      <td>340</td>\n",
       "      <td>21</td>\n",
       "      <td>5060</td>\n",
       "      <td>14.457143</td>\n",
       "    </tr>\n",
       "  </tbody>\n",
       "</table>\n",
       "<p>1290890 rows × 5 columns</p>\n",
       "</div>"
      ],
      "text/plain": [
       "               대여일시  대여소번호  이용시간_분  이용거리_M         시속\n",
       "0        2016-01-01    112      24    4140  10.350000\n",
       "1        2016-01-01    113      24    2850   7.125000\n",
       "2        2016-01-01    211       7    1020   8.500000\n",
       "3        2016-01-01    113      22    2850   7.702703\n",
       "4        2016-01-01    335      19    2190   6.843750\n",
       "...             ...    ...     ...     ...        ...\n",
       "1548617  2016-12-31    199       8    1490  11.461538\n",
       "1548618  2016-12-31    115       4    1100  15.714286\n",
       "1548619  2016-12-31    623       3     770  15.400000\n",
       "1548620  2016-12-31    320       7     740   6.166667\n",
       "1548621  2016-12-31    340      21    5060  14.457143\n",
       "\n",
       "[1290890 rows x 5 columns]"
      ]
     },
     "metadata": {},
     "output_type": "display_data"
    }
   ],
   "metadata": {
    "scrolled": true
   }
  },
  {
   "cell_type": "markdown",
   "source": [
    "#### 일별 대여소별 대여 횟수 구하기"
   ],
   "metadata": {}
  },
  {
   "cell_type": "code",
   "execution_count": null,
   "source": [
    "bike_2016[(bike_2016.대여일시=='2016-01-01')&(bike_2016.대여소번호==101)]"
   ],
   "outputs": [
    {
     "data": {
      "text/html": [
       "<div>\n",
       "<style scoped>\n",
       "    .dataframe tbody tr th:only-of-type {\n",
       "        vertical-align: middle;\n",
       "    }\n",
       "\n",
       "    .dataframe tbody tr th {\n",
       "        vertical-align: top;\n",
       "    }\n",
       "\n",
       "    .dataframe thead th {\n",
       "        text-align: right;\n",
       "    }\n",
       "</style>\n",
       "<table border=\"1\" class=\"dataframe\">\n",
       "  <thead>\n",
       "    <tr style=\"text-align: right;\">\n",
       "      <th></th>\n",
       "      <th>대여일시</th>\n",
       "      <th>대여소번호</th>\n",
       "      <th>이용시간_분</th>\n",
       "      <th>이용거리_M</th>\n",
       "      <th>시속</th>\n",
       "    </tr>\n",
       "  </thead>\n",
       "  <tbody>\n",
       "    <tr>\n",
       "      <th>114</th>\n",
       "      <td>2016-01-01</td>\n",
       "      <td>101</td>\n",
       "      <td>6</td>\n",
       "      <td>1020</td>\n",
       "      <td>10.200000</td>\n",
       "    </tr>\n",
       "    <tr>\n",
       "      <th>115</th>\n",
       "      <td>2016-01-01</td>\n",
       "      <td>101</td>\n",
       "      <td>6</td>\n",
       "      <td>1060</td>\n",
       "      <td>10.600000</td>\n",
       "    </tr>\n",
       "    <tr>\n",
       "      <th>390</th>\n",
       "      <td>2016-01-01</td>\n",
       "      <td>101</td>\n",
       "      <td>21</td>\n",
       "      <td>3340</td>\n",
       "      <td>9.542857</td>\n",
       "    </tr>\n",
       "  </tbody>\n",
       "</table>\n",
       "</div>"
      ],
      "text/plain": [
       "           대여일시  대여소번호  이용시간_분  이용거리_M         시속\n",
       "114  2016-01-01    101       6    1020  10.200000\n",
       "115  2016-01-01    101       6    1060  10.600000\n",
       "390  2016-01-01    101      21    3340   9.542857"
      ]
     },
     "metadata": {},
     "output_type": "display_data"
    }
   ],
   "metadata": {}
  },
  {
   "cell_type": "code",
   "execution_count": null,
   "source": [
    "bike_2016.groupby(['대여일시','대여소번호']).count().reset_index().iloc[:,0:3]"
   ],
   "outputs": [
    {
     "data": {
      "text/html": [
       "<div>\n",
       "<style scoped>\n",
       "    .dataframe tbody tr th:only-of-type {\n",
       "        vertical-align: middle;\n",
       "    }\n",
       "\n",
       "    .dataframe tbody tr th {\n",
       "        vertical-align: top;\n",
       "    }\n",
       "\n",
       "    .dataframe thead th {\n",
       "        text-align: right;\n",
       "    }\n",
       "</style>\n",
       "<table border=\"1\" class=\"dataframe\">\n",
       "  <thead>\n",
       "    <tr style=\"text-align: right;\">\n",
       "      <th></th>\n",
       "      <th>대여일시</th>\n",
       "      <th>대여소번호</th>\n",
       "      <th>이용시간_분</th>\n",
       "    </tr>\n",
       "  </thead>\n",
       "  <tbody>\n",
       "    <tr>\n",
       "      <th>0</th>\n",
       "      <td>2016-01-01</td>\n",
       "      <td>101</td>\n",
       "      <td>3</td>\n",
       "    </tr>\n",
       "    <tr>\n",
       "      <th>1</th>\n",
       "      <td>2016-01-01</td>\n",
       "      <td>102</td>\n",
       "      <td>11</td>\n",
       "    </tr>\n",
       "    <tr>\n",
       "      <th>2</th>\n",
       "      <td>2016-01-01</td>\n",
       "      <td>104</td>\n",
       "      <td>3</td>\n",
       "    </tr>\n",
       "    <tr>\n",
       "      <th>3</th>\n",
       "      <td>2016-01-01</td>\n",
       "      <td>105</td>\n",
       "      <td>3</td>\n",
       "    </tr>\n",
       "    <tr>\n",
       "      <th>4</th>\n",
       "      <td>2016-01-01</td>\n",
       "      <td>106</td>\n",
       "      <td>4</td>\n",
       "    </tr>\n",
       "    <tr>\n",
       "      <th>...</th>\n",
       "      <td>...</td>\n",
       "      <td>...</td>\n",
       "      <td>...</td>\n",
       "    </tr>\n",
       "    <tr>\n",
       "      <th>96440</th>\n",
       "      <td>2016-12-31</td>\n",
       "      <td>927</td>\n",
       "      <td>2</td>\n",
       "    </tr>\n",
       "    <tr>\n",
       "      <th>96441</th>\n",
       "      <td>2016-12-31</td>\n",
       "      <td>928</td>\n",
       "      <td>2</td>\n",
       "    </tr>\n",
       "    <tr>\n",
       "      <th>96442</th>\n",
       "      <td>2016-12-31</td>\n",
       "      <td>931</td>\n",
       "      <td>13</td>\n",
       "    </tr>\n",
       "    <tr>\n",
       "      <th>96443</th>\n",
       "      <td>2016-12-31</td>\n",
       "      <td>932</td>\n",
       "      <td>5</td>\n",
       "    </tr>\n",
       "    <tr>\n",
       "      <th>96444</th>\n",
       "      <td>2016-12-31</td>\n",
       "      <td>933</td>\n",
       "      <td>8</td>\n",
       "    </tr>\n",
       "  </tbody>\n",
       "</table>\n",
       "<p>96445 rows × 3 columns</p>\n",
       "</div>"
      ],
      "text/plain": [
       "             대여일시  대여소번호  이용시간_분\n",
       "0      2016-01-01    101       3\n",
       "1      2016-01-01    102      11\n",
       "2      2016-01-01    104       3\n",
       "3      2016-01-01    105       3\n",
       "4      2016-01-01    106       4\n",
       "...           ...    ...     ...\n",
       "96440  2016-12-31    927       2\n",
       "96441  2016-12-31    928       2\n",
       "96442  2016-12-31    931      13\n",
       "96443  2016-12-31    932       5\n",
       "96444  2016-12-31    933       8\n",
       "\n",
       "[96445 rows x 3 columns]"
      ]
     },
     "metadata": {},
     "output_type": "display_data"
    }
   ],
   "metadata": {
    "scrolled": true
   }
  },
  {
   "cell_type": "code",
   "execution_count": null,
   "source": [
    "bike2016_count=bike_2016.groupby(['대여일시','대여소번호']).count().reset_index().iloc[:,0:3]\r\n",
    "bike2017_count=bike_2017.groupby(['대여일시','대여소번호']).count().reset_index().iloc[:,0:3]\r\n",
    "bike2018_count=bike_2018.groupby(['대여일시','대여소번호']).count().reset_index().iloc[:,0:3]\r\n",
    "bike2019_count=bike_2019.groupby(['대여일시','대여소번호']).count().reset_index().iloc[:,0:3]"
   ],
   "outputs": [],
   "metadata": {}
  },
  {
   "cell_type": "code",
   "execution_count": null,
   "source": [
    "bike2016_count.columns=[\"대여일시\",\"대여소번호\",\"count\"]\r\n",
    "bike2017_count.columns=[\"대여일시\",\"대여소번호\",\"count\"]\r\n",
    "bike2018_count.columns=[\"대여일시\",\"대여소번호\",\"count\"]\r\n",
    "bike2019_count.columns=[\"대여일시\",\"대여소번호\",\"count\"]"
   ],
   "outputs": [],
   "metadata": {}
  },
  {
   "cell_type": "code",
   "execution_count": null,
   "source": [
    "bike2019_count.tail(3)"
   ],
   "outputs": [
    {
     "data": {
      "text/html": [
       "<div>\n",
       "<style scoped>\n",
       "    .dataframe tbody tr th:only-of-type {\n",
       "        vertical-align: middle;\n",
       "    }\n",
       "\n",
       "    .dataframe tbody tr th {\n",
       "        vertical-align: top;\n",
       "    }\n",
       "\n",
       "    .dataframe thead th {\n",
       "        text-align: right;\n",
       "    }\n",
       "</style>\n",
       "<table border=\"1\" class=\"dataframe\">\n",
       "  <thead>\n",
       "    <tr style=\"text-align: right;\">\n",
       "      <th></th>\n",
       "      <th>대여일시</th>\n",
       "      <th>대여소번호</th>\n",
       "      <th>count</th>\n",
       "    </tr>\n",
       "  </thead>\n",
       "  <tbody>\n",
       "    <tr>\n",
       "      <th>501796</th>\n",
       "      <td>2019-11-30</td>\n",
       "      <td>3539</td>\n",
       "      <td>3</td>\n",
       "    </tr>\n",
       "    <tr>\n",
       "      <th>501797</th>\n",
       "      <td>2019-11-30</td>\n",
       "      <td>3541</td>\n",
       "      <td>73</td>\n",
       "    </tr>\n",
       "    <tr>\n",
       "      <th>501798</th>\n",
       "      <td>2019-11-30</td>\n",
       "      <td>3542</td>\n",
       "      <td>37</td>\n",
       "    </tr>\n",
       "  </tbody>\n",
       "</table>\n",
       "</div>"
      ],
      "text/plain": [
       "              대여일시  대여소번호  count\n",
       "501796  2019-11-30   3539      3\n",
       "501797  2019-11-30   3541     73\n",
       "501798  2019-11-30   3542     37"
      ]
     },
     "metadata": {},
     "output_type": "display_data"
    }
   ],
   "metadata": {}
  },
  {
   "cell_type": "code",
   "execution_count": null,
   "source": [
    "bike_count=pd.concat([bike2016_count,bike2017_count,bike2018_count,bike2019_count])"
   ],
   "outputs": [],
   "metadata": {
    "scrolled": true
   }
  },
  {
   "cell_type": "code",
   "execution_count": null,
   "source": [
    "bike_count.reset_index(inplace=True,drop=True)"
   ],
   "outputs": [],
   "metadata": {}
  },
  {
   "cell_type": "code",
   "execution_count": null,
   "source": [
    "len(bike_count)"
   ],
   "outputs": [
    {
     "data": {
      "text/plain": [
       "1274064"
      ]
     },
     "metadata": {},
     "output_type": "display_data"
    }
   ],
   "metadata": {}
  },
  {
   "cell_type": "markdown",
   "source": [
    "bike_count.to_csv(\"bike_count.csv\",index=False,encoding='euc-kr')"
   ],
   "metadata": {
    "scrolled": true
   }
  }
 ],
 "metadata": {
  "orig_nbformat": 4,
  "language_info": {
   "name": "python"
  }
 },
 "nbformat": 4,
 "nbformat_minor": 2
}